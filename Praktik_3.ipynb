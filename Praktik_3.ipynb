{
  "nbformat": 4,
  "nbformat_minor": 0,
  "metadata": {
    "colab": {
      "provenance": [],
      "toc_visible": true,
      "include_colab_link": true
    },
    "kernelspec": {
      "name": "python3",
      "display_name": "Python 3"
    },
    "language_info": {
      "name": "python"
    }
  },
  "cells": [
    {
      "cell_type": "markdown",
      "metadata": {
        "id": "view-in-github",
        "colab_type": "text"
      },
      "source": [
        "<a href=\"https://colab.research.google.com/github/Rifqi0020/Cihuy/blob/main/Praktik_3.ipynb\" target=\"_parent\"><img src=\"https://colab.research.google.com/assets/colab-badge.svg\" alt=\"Open In Colab\"/></a>"
      ]
    },
    {
      "cell_type": "markdown",
      "source": [
        "# Soal 1\n",
        "\n",
        "```\n",
        "# This is formatted as code\n",
        "```\n",
        "\n"
      ],
      "metadata": {
        "id": "NwN3C-OPYZcO"
      }
    },
    {
      "cell_type": "code",
      "source": [
        "# String yang akan dimanipulasi\n",
        "kalimat = \"Hari Ini Adalah Hari Ketiga Saya Mengikuti Kegiatan Ngobar\"\n",
        "\n",
        "# Ambil dan tampilkan 6 karakter pertama\n",
        "karakter_pertama = kalimat[:6]\n",
        "print(\"6 karakter pertama:\", karakter_pertama)\n",
        "\n",
        "# Ambil dan tampilkan 5 karakter terakhir\n",
        "karakter_terakhir = kalimat[-5:]\n",
        "print(\"5 karakter terakhir:\", karakter_terakhir)\n",
        "\n",
        "# Ambil dan tampilkan kata \"Ketiga\"\n",
        "kata_ketiga = kalimat[21:27]  # Index untuk kata \"Ketiga\"\n",
        "print(\"Kata 'Ketiga':\", kata_ketiga)\n",
        "\n",
        "# Tampilkan string dengan urutan terbalik\n",
        "kalimat_terbalik = kalimat[::-1]\n",
        "print(\"String terbalik:\", kalimat_terbalik)"
      ],
      "metadata": {
        "colab": {
          "base_uri": "https://localhost:8080/"
        },
        "id": "2NhyW7_QYsCu",
        "outputId": "d1c812c8-7aef-476c-842e-e1586fec0937"
      },
      "execution_count": null,
      "outputs": [
        {
          "output_type": "stream",
          "name": "stdout",
          "text": [
            "6 karakter pertama: Hari I\n",
            "5 karakter terakhir: gobar\n",
            "Kata 'Ketiga': Ketiga\n",
            "String terbalik: rabogN nataigeK itukigneM ayaS agiteK iraH haladA inI iraH\n"
          ]
        }
      ]
    },
    {
      "cell_type": "markdown",
      "source": [
        "# Soal 2"
      ],
      "metadata": {
        "id": "JWABSRT5aMQE"
      }
    },
    {
      "cell_type": "code",
      "source": [
        "# Import library NumPy\n",
        "import numpy as np\n",
        "\n",
        "# Buat array\n",
        "arr = np.array([1, 5, 2, 9, 7, 3])\n",
        "\n",
        "# Hitung nilai rata-rata\n",
        "nilai_rata_rata = np.mean(arr)\n",
        "\n",
        "# Hitung nilai minimum\n",
        "nilai_minimum = np.min(arr)\n",
        "\n",
        "# Hitung nilai maksimum\n",
        "nilai_maksimum = np.max(arr)\n",
        "\n",
        "# Tampilkan hasil\n",
        "print(\"Nilai rata-rata:\", nilai_rata_rata)\n",
        "print(\"Nilai minimum:\", nilai_minimum)\n",
        "print(\"Nilai maksimum:\", nilai_maksimum)"
      ],
      "metadata": {
        "id": "WI-9erHraita",
        "colab": {
          "base_uri": "https://localhost:8080/"
        },
        "outputId": "a3efb7a3-a0fe-48fc-9ee2-d77e91d7065c"
      },
      "execution_count": null,
      "outputs": [
        {
          "output_type": "stream",
          "name": "stdout",
          "text": [
            "Nilai rata-rata: 4.5\n",
            "Nilai minimum: 1\n",
            "Nilai maksimum: 9\n"
          ]
        }
      ]
    },
    {
      "cell_type": "markdown",
      "source": [
        "# Soal 3"
      ],
      "metadata": {
        "id": "J5RDqHg-cVL6"
      }
    },
    {
      "cell_type": "code",
      "source": [
        "# Definisi 3 variabel string\n",
        "string1 = \"Belajar\"\n",
        "string2 = \"Python\"\n",
        "string3 = \"Menyenangkan\"\n",
        "\n",
        "# Gabungkan menggunakan operator +\n",
        "hasil_plus = string1 + \" \" + string2 + \" \" + string3\n",
        "print(\"Gabungan dengan operator +:\", hasil_plus)\n",
        "\n",
        "# Gabungkan menggunakan f-string\n",
        "hasil_fstring = f\"{string1} {string2} {string3}\"\n",
        "print(\"Gabungan dengan f-string:\", hasil_fstring)\n",
        "\n",
        "# Gabungkan menggunakan method .join()\n",
        "hasil_join = \" \".join([string1, string2, string3])\n",
        "print(\"Gabungan dengan method .join():\", hasil_join)"
      ],
      "metadata": {
        "id": "H4lbMH-dca4T",
        "colab": {
          "base_uri": "https://localhost:8080/"
        },
        "outputId": "7e492b04-cb0f-4f73-e15a-d4b189b49534"
      },
      "execution_count": null,
      "outputs": [
        {
          "output_type": "stream",
          "name": "stdout",
          "text": [
            "Gabungan dengan operator +: Belajar Python Menyenangkan\n",
            "Gabungan dengan f-string: Belajar Python Menyenangkan\n",
            "Gabungan dengan method .join(): Belajar Python Menyenangkan\n"
          ]
        }
      ]
    },
    {
      "cell_type": "markdown",
      "source": [
        "# Soal 4"
      ],
      "metadata": {
        "id": "jrY6FFZgiF64"
      }
    },
    {
      "cell_type": "code",
      "source": [
        "# Definisi string\n",
        "tex_soal = \"aku adalah seorang kapten dari sebuah tim sepak bola liga 3 liga belgia\"\n",
        "\n",
        "# Hitung jumlah karakter\n",
        "jumlah_karakter = len(tex_soal)\n",
        "print(\"Jumlah karakter:\", jumlah_karakter)\n",
        "\n",
        "# Hitung jumlah kata\n",
        "jumlah_kata = len(tex_soal.split())\n",
        "print(\"Jumlah kata:\", jumlah_kata)"
      ],
      "metadata": {
        "colab": {
          "base_uri": "https://localhost:8080/"
        },
        "id": "WKbK1_UiiKDX",
        "outputId": "e798365a-d84e-42d1-9c2a-653b8436881f"
      },
      "execution_count": null,
      "outputs": [
        {
          "output_type": "stream",
          "name": "stdout",
          "text": [
            "Jumlah karakter: 71\n",
            "Jumlah kata: 13\n"
          ]
        }
      ]
    }
  ]
}