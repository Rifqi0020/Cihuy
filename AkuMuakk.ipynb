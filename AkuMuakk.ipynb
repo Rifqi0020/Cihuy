{
  "nbformat": 4,
  "nbformat_minor": 0,
  "metadata": {
    "colab": {
      "provenance": [],
      "toc_visible": true,
      "authorship_tag": "ABX9TyNxzilLuaHO9B4bMJXuwZEP",
      "include_colab_link": true
    },
    "kernelspec": {
      "name": "python3",
      "display_name": "Python 3"
    },
    "language_info": {
      "name": "python"
    }
  },
  "cells": [
    {
      "cell_type": "markdown",
      "metadata": {
        "id": "view-in-github",
        "colab_type": "text"
      },
      "source": [
        "<a href=\"https://colab.research.google.com/github/Rifqi0020/Cihuy/blob/main/AkuMuakk.ipynb\" target=\"_parent\"><img src=\"https://colab.research.google.com/assets/colab-badge.svg\" alt=\"Open In Colab\"/></a>"
      ]
    },
    {
      "cell_type": "markdown",
      "source": [
        "# Praktik 4\n",
        "\n"
      ],
      "metadata": {
        "id": "NU1oqjoUkpVt"
      }
    },
    {
      "cell_type": "code",
      "source": [
        "def menu():\n",
        "    print(\"\\nSistem Manajemen Siswa\")\n",
        "    print(\"1. Tambah Data Siswa\")\n",
        "    print(\"2. Tampilkan Semua Data Siswa\")\n",
        "    print(\"3. Cari Siswa Berdasarkan NIM\")\n",
        "    print(\"4. Hitung Rata-rata Nilai\")\n",
        "    print(\"5. Keluar\")\n",
        "\n",
        "def tambah_data_siswa(data_siswa):\n",
        "    print(\"\\nMasukkan Data Siswa\")\n",
        "    nama = input(\"Nama: \")\n",
        "    nim = input(\"NIM: \")\n",
        "    jurusan = input(\"Jurusan: \")\n",
        "    try:\n",
        "        nilai = float(input(\"Nilai: \"))\n",
        "    except ValueError:\n",
        "        print(\"Nilai harus berupa angka.\")\n",
        "        return\n",
        "\n",
        "    siswa = {\n",
        "        \"nama\": nama,\n",
        "        \"nim\": nim,\n",
        "        \"jurusan\": jurusan,\n",
        "        \"nilai\": nilai\n",
        "    }\n",
        "    data_siswa.append(siswa)\n",
        "    print(\"Data siswa berhasil ditambahkan!\")\n",
        "\n",
        "def tampilkan_data_siswa(data_siswa):\n",
        "    if not data_siswa:\n",
        "        print(\"\\nTidak ada data siswa yang tersedia.\")\n",
        "        return\n",
        "\n",
        "    print(\"\\nData Semua Siswa:\")\n",
        "    for index, siswa in enumerate(data_siswa, start=1):\n",
        "        print(f\"{index}. Nama: {siswa['nama']}, NIM: {siswa['nim']}, Jurusan: {siswa['jurusan']}, Nilai: {siswa['nilai']}\")\n",
        "\n",
        "def cari_siswa(data_siswa):\n",
        "    nim_cari = input(\"\\nMasukkan NIM siswa yang dicari: \")\n",
        "    for siswa in data_siswa:\n",
        "        if siswa['nim'] == nim_cari:\n",
        "            print(f\"\\nData Siswa:\\nNama: {siswa['nama']}\\nNIM: {siswa['nim']}\\nJurusan: {siswa['jurusan']}\\nNilai: {siswa['nilai']}\")\n",
        "            return\n",
        "    print(\"Siswa dengan NIM tersebut tidak ditemukan.\")\n",
        "\n",
        "def hitung_rata_rata(data_siswa):\n",
        "    if not data_siswa:\n",
        "        print(\"\\nTidak ada data siswa untuk dihitung rata-ratanya.\")\n",
        "        return\n",
        "\n",
        "    total_nilai = sum(siswa['nilai'] for siswa in data_siswa)\n",
        "    rata_rata = total_nilai / len(data_siswa)\n",
        "    print(f\"\\nRata-rata nilai dari semua siswa adalah: {rata_rata:.2f}\")\n",
        "\n",
        "def main():\n",
        "    data_siswa = []\n",
        "    while True:\n",
        "        menu()\n",
        "        pilihan = input(\"\\nMasukkan pilihan (1-5): \")\n",
        "\n",
        "        if pilihan == '1':\n",
        "            tambah_data_siswa(data_siswa)\n",
        "        elif pilihan == '2':\n",
        "            tampilkan_data_siswa(data_siswa)\n",
        "        elif pilihan == '3':\n",
        "            cari_siswa(data_siswa)\n",
        "        elif pilihan == '4':\n",
        "            hitung_rata_rata(data_siswa)\n",
        "        elif pilihan == '5':\n",
        "            print(\"\\nTerima kasih telah menggunakan sistem manajemen siswa. Sampai jumpa!\")\n",
        "            break\n",
        "        else:\n",
        "            print(\"Pilihan tidak valid. Silakan coba lagi.\")\n",
        "\n",
        "if __name__ == \"_main_\":\n",
        "    main()"
      ],
      "metadata": {
        "id": "Lt6ONFsokv8o"
      },
      "execution_count": 14,
      "outputs": []
    }
  ]
}