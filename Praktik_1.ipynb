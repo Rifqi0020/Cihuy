{
  "nbformat": 4,
  "nbformat_minor": 0,
  "metadata": {
    "colab": {
      "provenance": [],
      "toc_visible": true,
      "authorship_tag": "ABX9TyPkX23meSK8Tc0/CAvavthh",
      "include_colab_link": true
    },
    "kernelspec": {
      "name": "python3",
      "display_name": "Python 3"
    },
    "language_info": {
      "name": "python"
    }
  },
  "cells": [
    {
      "cell_type": "markdown",
      "metadata": {
        "id": "view-in-github",
        "colab_type": "text"
      },
      "source": [
        "<a href=\"https://colab.research.google.com/github/Rifqi0020/Cihuy/blob/main/Praktik_1.ipynb\" target=\"_parent\"><img src=\"https://colab.research.google.com/assets/colab-badge.svg\" alt=\"Open In Colab\"/></a>"
      ]
    },
    {
      "cell_type": "code",
      "execution_count": null,
      "metadata": {
        "id": "2SHIkdJYvl_b"
      },
      "outputs": [],
      "source": []
    },
    {
      "cell_type": "markdown",
      "source": [
        "# Praktik Sesi 1"
      ],
      "metadata": {
        "id": "N61p2ZAWxvG4"
      }
    },
    {
      "cell_type": "code",
      "source": [
        "# Program Kalkulator Sederhana\n",
        "\n",
        "print(\"Kalkulator Sederhana\")\n",
        "print(\"Masukkan dua angka dan pilih operator (+, -, *, /):\")\n",
        "\n",
        "# Meminta input dari pengguna\n",
        "angka1 = float(input(\"Masukkan angka pertama: \"))\n",
        "angka2 = float(input(\"Masukkan angka kedua: \"))\n",
        "operator = input(\"Masukkan operator (+, -, *, /): \")\n",
        "\n",
        "# Menggunakan percabangan untuk menghitung berdasarkan operator\n",
        "if operator == '+':\n",
        "    hasil = angka1 + angka2\n",
        "    print(f\"Hasil: {angka1} + {angka2} = {hasil}\")\n",
        "elif operator == '-':\n",
        "    hasil = angka1 - angka2\n",
        "    print(f\"Hasil: {angka1} - {angka2} = {hasil}\")\n",
        "elif operator == '*':\n",
        "    hasil = angka1 * angka2\n",
        "    print(f\"Hasil: {angka1} * {angka2} = {hasil}\")\n",
        "elif operator == '/':\n",
        "    if angka2 != 0:  # Menghindari pembagian dengan nol\n",
        "        hasil = angka1 / angka2\n",
        "        print(f\"Hasil: {angka1} / {angka2} = {hasil}\")\n",
        "    else:\n",
        "        print(\"Error: Tidak dapat membagi dengan nol.\")\n",
        "else:\n",
        "    print(\"Operator tidak valid. Silakan coba lagi.\")\n"
      ],
      "metadata": {
        "colab": {
          "base_uri": "https://localhost:8080/"
        },
        "id": "gsq2ZWroxwBB",
        "outputId": "495f566d-63f4-4b64-d2ff-23374e1c2cb3"
      },
      "execution_count": null,
      "outputs": [
        {
          "output_type": "stream",
          "name": "stdout",
          "text": [
            "Kalkulator Sederhana\n",
            "Masukkan dua angka dan pilih operator (+, -, *, /):\n",
            "Masukkan angka pertama: 78\n",
            "Masukkan angka kedua: 2\n",
            "Masukkan operator (+, -, *, /): *\n",
            "Hasil: 78.0 * 2.0 = 156.0\n"
          ]
        }
      ]
    },
    {
      "cell_type": "code",
      "source": [
        "batas = int(input(\"Masukkan batas deret Fibonacci: \"))\n",
        "\n",
        "a, b = 0, 1\n",
        "\n",
        "if batas <= 0:\n",
        "  print(\"Masukkan batas yang lebih besar dari 0\")\n",
        "elif batas == 1:\n",
        "  print(a)\n",
        "else:\n",
        "  print(a)\n",
        "  print(b)\n",
        "  for i in range(2, batas):\n",
        "    c = a + b\n",
        "    a, b = b, c\n",
        "c"
      ],
      "metadata": {
        "colab": {
          "base_uri": "https://localhost:8080/"
        },
        "id": "od4sXZGrx5tQ",
        "outputId": "cc847eac-a10b-4a1b-9ec8-eb9c1a08c4e3"
      },
      "execution_count": null,
      "outputs": [
        {
          "output_type": "stream",
          "name": "stdout",
          "text": [
            "Masukkan batas deret Fibonacci: 7\n",
            "0\n",
            "1\n"
          ]
        },
        {
          "output_type": "execute_result",
          "data": {
            "text/plain": [
              "8"
            ]
          },
          "metadata": {},
          "execution_count": 2
        }
      ]
    },
    {
      "cell_type": "code",
      "source": [
        "angka = []\n",
        "while True:\n",
        "    try:\n",
        "        bilangan = float(input(\"Masukkan angka (atau ketik 'selesai'): \"))\n",
        "        angka.append(bilangan)\n",
        "    except ValueError:\n",
        "        if input(\"Apakah anda ingin berhenti memasukkan angka (ya/tidak)? \").lower() == 'ya':\n",
        "            break\n",
        "        else:\n",
        "            continue\n",
        "\n",
        "if angka:\n",
        "    nilai_maksimum = max(angka)\n",
        "    nilai_minimum = min(angka)\n",
        "    print(\"Nilai maksimum:\", nilai_maksimum)\n",
        "    print(\"Nilai minimum:\", nilai_minimum)\n",
        "else:\n",
        "    print(\"Tidak ada angka yang dimasukkan.\")"
      ],
      "metadata": {
        "colab": {
          "base_uri": "https://localhost:8080/"
        },
        "id": "7kCy6O3wyElN",
        "outputId": "a89f77f4-ffca-4ff9-d3ed-671afea09c9c"
      },
      "execution_count": null,
      "outputs": [
        {
          "output_type": "stream",
          "name": "stdout",
          "text": [
            "Masukkan angka (atau ketik 'selesai'): 98\n",
            "Masukkan angka (atau ketik 'selesai'): 75\n",
            "Masukkan angka (atau ketik 'selesai'): 61\n",
            "Masukkan angka (atau ketik 'selesai'): 22\n",
            "Masukkan angka (atau ketik 'selesai'): 01\n",
            "Masukkan angka (atau ketik 'selesai'): selesai\n",
            "Apakah anda ingin berhenti memasukkan angka (ya/tidak)? ya\n",
            "Nilai maksimum: 98.0\n",
            "Nilai minimum: 1.0\n"
          ]
        }
      ]
    }
  ]
}