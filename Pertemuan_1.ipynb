{
  "nbformat": 4,
  "nbformat_minor": 0,
  "metadata": {
    "colab": {
      "provenance": [],
      "toc_visible": true,
      "authorship_tag": "ABX9TyP22Q7rnITGEN2QaTB0l1tn",
      "include_colab_link": true
    },
    "kernelspec": {
      "name": "python3",
      "display_name": "Python 3"
    },
    "language_info": {
      "name": "python"
    }
  },
  "cells": [
    {
      "cell_type": "markdown",
      "metadata": {
        "id": "view-in-github",
        "colab_type": "text"
      },
      "source": [
        "<a href=\"https://colab.research.google.com/github/Rifqi0020/Cihuy/blob/main/Pertemuan_1.ipynb\" target=\"_parent\"><img src=\"https://colab.research.google.com/assets/colab-badge.svg\" alt=\"Open In Colab\"/></a>"
      ]
    },
    {
      "cell_type": "markdown",
      "source": [
        "Menampilkan Teks"
      ],
      "metadata": {
        "id": "oDI20G2rFINm"
      }
    },
    {
      "cell_type": "code",
      "execution_count": 1,
      "metadata": {
        "colab": {
          "base_uri": "https://localhost:8080/"
        },
        "id": "HGMuJknHB_t5",
        "outputId": "c2c4ef62-6b88-4582-cb0c-fbbc0cea4e68"
      },
      "outputs": [
        {
          "output_type": "stream",
          "name": "stdout",
          "text": [
            "halo dunia\n"
          ]
        }
      ],
      "source": [
        "print(\"halo dunia\")"
      ]
    },
    {
      "cell_type": "code",
      "source": [
        "from google.colab import drive\n",
        "drive.mount('/content/drive')"
      ],
      "metadata": {
        "id": "kt7f-lebRefe"
      },
      "execution_count": null,
      "outputs": []
    },
    {
      "cell_type": "markdown",
      "source": [
        "Variabel dan Komentar"
      ],
      "metadata": {
        "id": "T2KDbOQnIpw-"
      }
    },
    {
      "cell_type": "code",
      "source": [
        "# Komentar\n",
        "Warna  = \"Pink\" # variabel nama\n",
        "print(\"warna baju kamu,\", Warna)"
      ],
      "metadata": {
        "colab": {
          "base_uri": "https://localhost:8080/"
        },
        "id": "E9Ft_tT1FS5v",
        "outputId": "de25a69e-5506-4c60-f2ea-83a282d131c3"
      },
      "execution_count": 6,
      "outputs": [
        {
          "output_type": "stream",
          "name": "stdout",
          "text": [
            "warna baju kamu, Pink\n"
          ]
        }
      ]
    },
    {
      "cell_type": "markdown",
      "source": [
        "Tipe Data"
      ],
      "metadata": {
        "id": "0l2CcT6iJJQX"
      }
    },
    {
      "cell_type": "code",
      "source": [
        "# Integer (int)\n",
        "angka = 10\n",
        "print(type(angka))  # Output: <class 'int'>\n",
        "\n",
        "# Float\n",
        "desimal = 3.14\n",
        "print(type(desimal))  # Output: <class 'float'>\n",
        "\n",
        "# String (str)\n",
        "teks = \"Halo, Python!\"\n",
        "print(type(teks))  # Output: <class 'str'>\n",
        "\n",
        "# Boolean (bool)\n",
        "logika = True\n",
        "print(type(logika))  # Output: <class 'bool'>\n",
        "\n",
        "# List\n",
        "daftar = [1, 2, 3, \"Python\"]\n",
        "print(type(daftar))  # Output: <class 'list'>\n",
        "\n",
        "# Tuple\n",
        "tup = (1, 2, 3, \"Python\")\n",
        "print(type(tup))  # Output: <class 'tuple'>\n",
        "\n",
        "# Dictionary (Dict)\n",
        "kamus = {\"nama\": \"Python\", \"versi\": 3.10}\n",
        "print(type(kamus))  # Output: <class 'dict'>\n",
        "\n",
        "# Set\n",
        "himpunan = {1, 2, 3, 3}\n",
        "print(type(himpunan))  # Output: <class 'set'>\n"
      ],
      "metadata": {
        "colab": {
          "base_uri": "https://localhost:8080/"
        },
        "id": "s2UcU70EI0dD",
        "outputId": "35bd5d6f-4313-4eb6-d8ed-efadf5856f8b"
      },
      "execution_count": 7,
      "outputs": [
        {
          "output_type": "stream",
          "name": "stdout",
          "text": [
            "<class 'int'>\n",
            "<class 'float'>\n",
            "<class 'str'>\n",
            "<class 'bool'>\n",
            "<class 'list'>\n",
            "<class 'tuple'>\n",
            "<class 'dict'>\n",
            "<class 'set'>\n"
          ]
        }
      ]
    },
    {
      "cell_type": "code",
      "source": [
        "nama = \"halo nama saya rifqi :>\"\n",
        "print(nama)\n",
        "a = int(input(\"Masukkan angka pertama: \"))\n",
        "b = int(input(\"Masukkan angka kedua: \"))\n",
        "print(\"Hasil Penjumlahan :\", a + b) #Penjumlahan\n",
        "print(\"Hasil Pengurangan :\", a - b) #Pengurangan\n",
        "print(\"Hasil Perkalian   :\", a * b) #Perkalian\n",
        "print(\"Hasil Pembagian   :\", a / b) #Pembagian"
      ],
      "metadata": {
        "colab": {
          "base_uri": "https://localhost:8080/"
        },
        "id": "k-p_gobxJjqQ",
        "outputId": "6824cb61-4008-4cfa-bbf0-cde2e107bea1"
      },
      "execution_count": null,
      "outputs": [
        {
          "output_type": "stream",
          "name": "stdout",
          "text": [
            "halo nama saya rifqi :>\n"
          ]
        }
      ]
    }
  ]
}